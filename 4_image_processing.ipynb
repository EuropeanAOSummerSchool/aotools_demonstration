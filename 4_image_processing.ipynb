{
 "cells": [
  {
   "cell_type": "markdown",
   "id": "7d1cb5f6-33cf-4780-ab0e-aa743a397c6d",
   "metadata": {},
   "source": [
    "Image Processing\n",
    "================\n",
    "\n",
    "\n",
    "This notebook shows examples of using `aotools` to do the following:\n",
    "- Measure properties of point sources\n",
    "- Measure properties of extended sources\n"
   ]
  },
  {
   "cell_type": "code",
   "execution_count": 1,
   "id": "33f22a30-dec2-48c4-b1d9-62a66f210a90",
   "metadata": {},
   "outputs": [],
   "source": [
    "import numpy\n",
    "import matplotlib.pylab as plt\n",
    "from tqdm import tqdm, trange, tqdm_notebook\n",
    "from astropy.io import fits\n",
    "# %matplotlib inline\n",
    "import aotools\n",
    "from aotools.turbulence import phasescreen, infinitephasescreen\n",
    "from matplotlib import animation, rc, rcParams\n",
    "from IPython.display import HTML\n",
    "import matplotlib.colors as colors\n",
    "\n",
    "rcParams['figure.figsize'] = [10,5]\n",
    "\n",
    "import scipy.signal\n",
    "j = 0+1j"
   ]
  },
  {
   "cell_type": "markdown",
   "id": "adcdc8ee-5b88-4c94-83b9-f6d723fb84c8",
   "metadata": {},
   "source": [
    "Measuring the Position of a Point Source\n",
    "----------------------------------------\n",
    "\n",
    "First we need to create our PSF. To do this we are going to simply take our aperture function example from the previous notebook. "
   ]
  },
  {
   "cell_type": "code",
   "execution_count": 2,
   "id": "5e2b3356-0343-48f4-8d92-a445aefe6940",
   "metadata": {},
   "outputs": [],
   "source": [
    "# Set up parameters for creating phase screens\n",
    "nx_size = 64 # pxls\n",
    "D = 0.5 # m\n",
    "pxl_scale = D/nx_size # m/pxl\n",
    "pad_factor = 2\n",
    "r0 = 0.16 # m\n",
    "L0 = 10 # m\n",
    "l0 = 1e-3 # m\n",
    "wavelength = 500e-9 # m"
   ]
  },
  {
   "cell_type": "code",
   "execution_count": 3,
   "id": "98aacd14-a209-4962-935e-ea784c540cb8",
   "metadata": {},
   "outputs": [
    {
     "data": {
      "image/png": "[encoded data removed]",
      "text/plain": [
       "<Figure size 1000x500 with 2 Axes>"
      ]
     },
     "metadata": {},
     "output_type": "display_data"
    }
   ],
   "source": [
    "pupil = aotools.circle(D/pxl_scale/2, nx_size)\n",
    "# pupil = numpy.ones((nx_size, nx_size))\n",
    "\n",
    "pad_size = nx_size*pad_factor\n",
    "padded_pupil = numpy.zeros((pad_size, pad_size))\n",
    "padded_pupil[:nx_size, :nx_size] = pupil\n",
    "\n",
    "# Use AOtools to transform from the pupil to the focal plane\n",
    "psf = numpy.abs(aotools.ft2(padded_pupil, delta=pxl_scale,)**2.)\n",
    "\n",
    "psf_cut= psf[int(pad_size/2-nx_size/2):int(pad_size/2+nx_size/2), int(pad_size/2-nx_size/2):int(pad_size/2+nx_size/2)]\n",
    "\n",
    "plt.figure()\n",
    "plt.imshow(psf_cut)\n",
    "plt.axis('off')\n",
    "cbar = plt.colorbar()\n",
    "cbar.set_label('Intensity (arbitrary units)', labelpad=8)"
   ]
  },
  {
   "cell_type": "markdown",
   "id": "713aaa0c-9fd1-4ecb-b076-d5b3a0e4ea3c",
   "metadata": {},
   "source": [
    "To measure the position of this PSF we can \"centroid\" it using any number of different techniques. The simplist is a centre of gravity, and can be used:"
   ]
  },
  {
   "cell_type": "code",
   "execution_count": 4,
   "id": "30f5a7d3-89bf-4aa3-8ee2-1bea2ebef663",
   "metadata": {},
   "outputs": [
    {
     "name": "stdout",
     "output_type": "stream",
     "text": [
      "[64. 64.]\n"
     ]
    }
   ],
   "source": [
    "centroid = aotools.centre_of_gravity(psf)\n",
    "print(centroid)"
   ]
  },
  {
   "cell_type": "markdown",
   "id": "8bf1ab31-5192-4bb3-bfcf-bb6836b38a1d",
   "metadata": {},
   "source": [
    "This gives us the position of the PSF, in our example using 64 x 64 pixel pupil with a factor of 2 oversampling (128 x 128) the PSF is centred, so the `centre_of_gravity` method returns the pixel position of the centre."
   ]
  },
  {
   "cell_type": "code",
   "execution_count": 5,
   "id": "4ebc3a8a-ee31-4c18-82b0-c8fbad77fb68",
   "metadata": {},
   "outputs": [
    {
     "data": {
      "text/plain": [
       "(-0.5, 63.5, 63.5, -0.5)"
      ]
     },
     "execution_count": 5,
     "metadata": {},
     "output_type": "execute_result"
    },
    {
     "data": {
      "image/png": "[encoded data removed]",
      "text/plain": [
       "<Figure size 1000x500 with 1 Axes>"
      ]
     },
     "metadata": {},
     "output_type": "display_data"
    }
   ],
   "source": [
    "# Create the phase screen object using aotools\n",
    "phase_screen = phasescreen.ft_phase_screen(r0, pad_size, pxl_scale, L0, l0)\n",
    "complex_field = padded_pupil * numpy.exp(j*phase_screen)\n",
    "\n",
    "# Use AOtools to transform from the pupil to the focal plane\n",
    "psf = numpy.abs(aotools.ft2(complex_field, delta=pxl_scale,)**2.)\n",
    "\n",
    "psf_cut= psf[int(pad_size/2-nx_size/2):int(pad_size/2+nx_size/2), int(pad_size/2-nx_size/2):int(pad_size/2+nx_size/2)]\n",
    "\n",
    "# Plot the PSF\n",
    "plt.figure()\n",
    "plt.imshow(psf_cut)\n",
    "plt.axis('off')\n"
   ]
  },
  {
   "cell_type": "code",
   "execution_count": 6,
   "id": "dba248e3-8e41-4311-b190-80e139b52093",
   "metadata": {},
   "outputs": [
    {
     "name": "stdout",
     "output_type": "stream",
     "text": [
      "[64.2102524  63.54097328]\n"
     ]
    }
   ],
   "source": [
    "centroid = aotools.centre_of_gravity(psf)\n",
    "print(centroid)"
   ]
  },
  {
   "cell_type": "markdown",
   "id": "f6f87665-a4dc-4204-a352-c9ba554e0095",
   "metadata": {},
   "source": [
    "The PSF has moved. Note that the units here are pixels, and needs to be converted to the physical simulation units (_e.g._ arcseconds). This is done using the formula to convert from real space pixel scale to Fourier space pixel scale, but also multiplying by the imaging wavelength $\\lambda$:\n",
    "$$ \\delta_\\theta = \\frac{\\lambda}{N \\delta_x}$$\n",
    "This gives the pixel scale in radians in the focal plane."
   ]
  },
  {
   "cell_type": "code",
   "execution_count": 7,
   "id": "a646469b",
   "metadata": {},
   "outputs": [
    {
     "name": "stderr",
     "output_type": "stream",
     "text": [
      "C:\\Users\\fddj2\\AppData\\Local\\Temp\\ipykernel_20808\\542533522.py:16: MatplotlibDeprecationWarning: Setting data with a non sequence type is deprecated since 3.7 and will be remove two minor releases later\n",
      "  psf_centroid.set_data(0,0)\n"
     ]
    },
    {
     "data": {
      "image/png": "[encoded data removed]",
      "text/plain": [
       "<Figure size 1000x500 with 2 Axes>"
      ]
     },
     "metadata": {},
     "output_type": "display_data"
    }
   ],
   "source": [
    "frames=500\n",
    "\n",
    "phase_screen = infinitephasescreen.PhaseScreenKolmogorov(nx_size, pxl_scale, r0, L0)\n",
    "padded_pupil = numpy.zeros((nx_size*pad_factor, nx_size*pad_factor), dtype=numpy.complex64)\n",
    "psfs = numpy.zeros((frames, nx_size*pad_factor, nx_size*pad_factor))\n",
    "\n",
    "# Video of moving a phase screen and PSF\n",
    "fig, [ax1, ax2] = plt.subplots(nrows=1, ncols=2)\n",
    "screen_image = ax1.imshow(numpy.zeros((nx_size, nx_size)))\n",
    "psf_image = ax2.imshow(numpy.zeros((nx_size, nx_size)))\n",
    "psf_centroid = ax2.plot(0,0, color='w', marker='x', markersize=12)[0]\n",
    "\n",
    "def init():\n",
    "    screen_image.set_data(numpy.zeros((nx_size, nx_size)))\n",
    "    psf_image.set_data(numpy.zeros((nx_size, nx_size)))\n",
    "    psf_centroid.set_data(0,0)\n",
    "    return (screen_image, psf_image, psf_centroid,)\n",
    "\n",
    "def animate(i):  \n",
    "    phase_screen.add_row()\n",
    "    wavefront = numpy.copy(phase_screen.scrn)\n",
    "    screen_image.set_data(wavefront*aotools.circle(nx_size/2, nx_size))\n",
    "    screen_image.autoscale()\n",
    "    \n",
    "    padded_pupil[:nx_size, :nx_size] = pupil * numpy.exp(j*wavefront)\n",
    "    \n",
    "    # Use AOtools to transform from the pupil to the focal plane\n",
    "    psf = numpy.abs(aotools.ft2(padded_pupil, delta=pxl_scale))**2.\n",
    "    \n",
    "    psf_cut = psf[int(pad_size/2-nx_size/2):int(pad_size/2+nx_size/2), int(pad_size/2-nx_size/2):int(pad_size/2+nx_size/2)]\n",
    "    \n",
    "    psf_image.set_data(psf_cut)\n",
    "    psf_image.autoscale()\n",
    "    \n",
    "    psf_centroid.set_data(aotools.centre_of_gravity(psf_cut))\n",
    "    \n",
    "    return (screen_image, psf_image, psf_centroid)\n",
    "\n",
    "anim = animation.FuncAnimation(fig, animate, init_func=init,\n",
    "                               frames=frames, interval=10, \n",
    "                               blit=True)"
   ]
  },
  {
   "cell_type": "code",
   "execution_count": null,
   "id": "7baf7a89",
   "metadata": {},
   "outputs": [
    {
     "name": "stderr",
     "output_type": "stream",
     "text": [
      "C:\\Users\\fddj2\\AppData\\Local\\Temp\\ipykernel_20808\\542533522.py:16: MatplotlibDeprecationWarning: Setting data with a non sequence type is deprecated since 3.7 and will be remove two minor releases later\n",
      "  psf_centroid.set_data(0,0)\n",
      "C:\\Users\\fddj2\\AppData\\Local\\Temp\\ipykernel_20808\\542533522.py:35: MatplotlibDeprecationWarning: Setting data with a non sequence type is deprecated since 3.7 and will be remove two minor releases later\n",
      "  psf_centroid.set_data(aotools.centre_of_gravity(psf_cut))\n"
     ]
    }
   ],
   "source": [
    "HTML(anim.to_html5_video())"
   ]
  },
  {
   "cell_type": "markdown",
   "id": "e8d4e5f4-b02c-4e8a-846b-caad06e43004",
   "metadata": {},
   "source": [
    "Now you have all the tools and knowledge to make your own Shack-Hartmann wavefront sensor, and the ability to process the images produced by it.\n",
    "\n",
    "> HINT: A Shack-Hartmann is essentially a grid placed across a pupil, with each \"box\" forming its own imaging system."
   ]
  },
  {
   "cell_type": "code",
   "execution_count": null,
   "id": "ec14eac7",
   "metadata": {},
   "outputs": [],
   "source": []
  }
 ],
 "metadata": {
  "kernelspec": {
   "display_name": "Python 3 (ipykernel)",
   "language": "python",
   "name": "python3"
  },
  "language_info": {
   "codemirror_mode": {
    "name": "ipython",
    "version": 3
   },
   "file_extension": ".py",
   "mimetype": "text/x-python",
   "name": "python",
   "nbconvert_exporter": "python",
   "pygments_lexer": "ipython3",
   "version": "3.11.8"
  }
 },
 "nbformat": 4,
 "nbformat_minor": 5
}
